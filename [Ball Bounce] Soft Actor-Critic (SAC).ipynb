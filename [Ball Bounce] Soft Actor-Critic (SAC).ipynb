{
  "nbformat": 4,
  "nbformat_minor": 0,
  "metadata": {
    "colab": {
      "provenance": [],
      "gpuType": "T4",
      "authorship_tag": "ABX9TyNtL3Qc3421DG6+6cfb04C7",
      "include_colab_link": true
    },
    "kernelspec": {
      "name": "python3",
      "display_name": "Python 3"
    },
    "language_info": {
      "name": "python"
    },
    "accelerator": "GPU"
  },
  "cells": [
    {
      "cell_type": "markdown",
      "metadata": {
        "id": "view-in-github",
        "colab_type": "text"
      },
      "source": [
        "<a href=\"https://colab.research.google.com/github/kuds/rl-mujoco-tennis/blob/main/%5BBall%20Bounce%5D%20Soft%20Actor-Critic%20(SAC).ipynb\" target=\"_parent\"><img src=\"https://colab.research.google.com/assets/colab-badge.svg\" alt=\"Open In Colab\"/></a>"
      ]
    },
    {
      "cell_type": "markdown",
      "source": [
        "# Ball Bounce: Soft Actor-Critic (SAC)\n",
        "\n",
        "## Helpful Links\n",
        "https://github.com/denisgriaznov/CustomMuJoCoEnviromentForRL"
      ],
      "metadata": {
        "id": "Z5m28j-y778h"
      }
    },
    {
      "cell_type": "code",
      "source": [
        "!pip install mujoco\n",
        "\n",
        "# Set up GPU rendering.\n",
        "from google.colab import files\n",
        "import distutils.util\n",
        "import os\n",
        "import subprocess\n",
        "if subprocess.run('nvidia-smi').returncode:\n",
        "  raise RuntimeError(\n",
        "      'Cannot communicate with GPU. '\n",
        "      'Make sure you are using a GPU Colab runtime. '\n",
        "      'Go to the Runtime menu and select Choose runtime type.')\n",
        "\n",
        "# Add an ICD config so that glvnd can pick up the Nvidia EGL driver.\n",
        "# This is usually installed as part of an Nvidia driver package, but the Colab\n",
        "# kernel doesn't install its driver via APT, and as a result the ICD is missing.\n",
        "# (https://github.com/NVIDIA/libglvnd/blob/master/src/EGL/icd_enumeration.md)\n",
        "NVIDIA_ICD_CONFIG_PATH = '/usr/share/glvnd/egl_vendor.d/10_nvidia.json'\n",
        "if not os.path.exists(NVIDIA_ICD_CONFIG_PATH):\n",
        "  with open(NVIDIA_ICD_CONFIG_PATH, 'w') as f:\n",
        "    f.write(\"\"\"{\n",
        "    \"file_format_version\" : \"1.0.0\",\n",
        "    \"ICD\" : {\n",
        "        \"library_path\" : \"libEGL_nvidia.so.0\"\n",
        "    }\n",
        "}\n",
        "\"\"\")\n",
        "\n",
        "# Configure MuJoCo to use the EGL rendering backend (requires GPU)\n",
        "print('Setting environment variable to use GPU rendering:')\n",
        "%env MUJOCO_GL=egl\n",
        "\n",
        "# Check if installation was succesful.\n",
        "try:\n",
        "  print('Checking that the installation succeeded:')\n",
        "  import mujoco\n",
        "  mujoco.MjModel.from_xml_string('<mujoco/>')\n",
        "except Exception as e:\n",
        "  raise e from RuntimeError(\n",
        "      'Something went wrong during installation. Check the shell output above '\n",
        "      'for more information.\\n'\n",
        "      'If using a hosted Colab runtime, make sure you enable GPU acceleration '\n",
        "      'by going to the Runtime menu and selecting \"Choose runtime type\".')\n",
        "\n",
        "print('Installation successful.')\n",
        "\n",
        "# Other imports and helper functions\n",
        "import time\n",
        "import itertools\n",
        "import numpy as np\n",
        "\n",
        "# Graphics and plotting.\n",
        "print('Installing mediapy:')\n",
        "!command -v ffmpeg >/dev/null || (apt update && apt install -y ffmpeg)\n",
        "!pip install -q mediapy\n",
        "import mediapy as media\n",
        "import matplotlib.pyplot as plt\n",
        "\n",
        "# More legible printing from numpy.\n",
        "np.set_printoptions(precision=3, suppress=True, linewidth=100)\n",
        "\n",
        "from IPython.display import clear_output\n",
        "clear_output()\n"
      ],
      "metadata": {
        "id": "CRcmb1y7XABJ"
      },
      "execution_count": 1,
      "outputs": []
    },
    {
      "cell_type": "code",
      "source": [
        "!pip install stable-baselines3"
      ],
      "metadata": {
        "id": "r5g-qyU5l1Hy",
        "outputId": "630818f0-04e4-4e83-f99b-c9b34a11bf74",
        "colab": {
          "base_uri": "https://localhost:8080/"
        }
      },
      "execution_count": 2,
      "outputs": [
        {
          "output_type": "stream",
          "name": "stdout",
          "text": [
            "Requirement already satisfied: stable-baselines3 in /usr/local/lib/python3.11/dist-packages (2.5.0)\n",
            "Requirement already satisfied: gymnasium<1.1.0,>=0.29.1 in /usr/local/lib/python3.11/dist-packages (from stable-baselines3) (1.0.0)\n",
            "Requirement already satisfied: numpy<3.0,>=1.20 in /usr/local/lib/python3.11/dist-packages (from stable-baselines3) (1.26.4)\n",
            "Requirement already satisfied: torch<3.0,>=2.3 in /usr/local/lib/python3.11/dist-packages (from stable-baselines3) (2.5.1+cu124)\n",
            "Requirement already satisfied: cloudpickle in /usr/local/lib/python3.11/dist-packages (from stable-baselines3) (3.1.1)\n",
            "Requirement already satisfied: pandas in /usr/local/lib/python3.11/dist-packages (from stable-baselines3) (2.2.2)\n",
            "Requirement already satisfied: matplotlib in /usr/local/lib/python3.11/dist-packages (from stable-baselines3) (3.10.0)\n",
            "Requirement already satisfied: typing-extensions>=4.3.0 in /usr/local/lib/python3.11/dist-packages (from gymnasium<1.1.0,>=0.29.1->stable-baselines3) (4.12.2)\n",
            "Requirement already satisfied: farama-notifications>=0.0.1 in /usr/local/lib/python3.11/dist-packages (from gymnasium<1.1.0,>=0.29.1->stable-baselines3) (0.0.4)\n",
            "Requirement already satisfied: filelock in /usr/local/lib/python3.11/dist-packages (from torch<3.0,>=2.3->stable-baselines3) (3.17.0)\n",
            "Requirement already satisfied: networkx in /usr/local/lib/python3.11/dist-packages (from torch<3.0,>=2.3->stable-baselines3) (3.4.2)\n",
            "Requirement already satisfied: jinja2 in /usr/local/lib/python3.11/dist-packages (from torch<3.0,>=2.3->stable-baselines3) (3.1.5)\n",
            "Requirement already satisfied: fsspec in /usr/local/lib/python3.11/dist-packages (from torch<3.0,>=2.3->stable-baselines3) (2024.10.0)\n",
            "Requirement already satisfied: nvidia-cuda-nvrtc-cu12==12.4.127 in /usr/local/lib/python3.11/dist-packages (from torch<3.0,>=2.3->stable-baselines3) (12.4.127)\n",
            "Requirement already satisfied: nvidia-cuda-runtime-cu12==12.4.127 in /usr/local/lib/python3.11/dist-packages (from torch<3.0,>=2.3->stable-baselines3) (12.4.127)\n",
            "Requirement already satisfied: nvidia-cuda-cupti-cu12==12.4.127 in /usr/local/lib/python3.11/dist-packages (from torch<3.0,>=2.3->stable-baselines3) (12.4.127)\n",
            "Requirement already satisfied: nvidia-cudnn-cu12==9.1.0.70 in /usr/local/lib/python3.11/dist-packages (from torch<3.0,>=2.3->stable-baselines3) (9.1.0.70)\n",
            "Requirement already satisfied: nvidia-cublas-cu12==12.4.5.8 in /usr/local/lib/python3.11/dist-packages (from torch<3.0,>=2.3->stable-baselines3) (12.4.5.8)\n",
            "Requirement already satisfied: nvidia-cufft-cu12==11.2.1.3 in /usr/local/lib/python3.11/dist-packages (from torch<3.0,>=2.3->stable-baselines3) (11.2.1.3)\n",
            "Requirement already satisfied: nvidia-curand-cu12==10.3.5.147 in /usr/local/lib/python3.11/dist-packages (from torch<3.0,>=2.3->stable-baselines3) (10.3.5.147)\n",
            "Requirement already satisfied: nvidia-cusolver-cu12==11.6.1.9 in /usr/local/lib/python3.11/dist-packages (from torch<3.0,>=2.3->stable-baselines3) (11.6.1.9)\n",
            "Requirement already satisfied: nvidia-cusparse-cu12==12.3.1.170 in /usr/local/lib/python3.11/dist-packages (from torch<3.0,>=2.3->stable-baselines3) (12.3.1.170)\n",
            "Requirement already satisfied: nvidia-nccl-cu12==2.21.5 in /usr/local/lib/python3.11/dist-packages (from torch<3.0,>=2.3->stable-baselines3) (2.21.5)\n",
            "Requirement already satisfied: nvidia-nvtx-cu12==12.4.127 in /usr/local/lib/python3.11/dist-packages (from torch<3.0,>=2.3->stable-baselines3) (12.4.127)\n",
            "Requirement already satisfied: nvidia-nvjitlink-cu12==12.4.127 in /usr/local/lib/python3.11/dist-packages (from torch<3.0,>=2.3->stable-baselines3) (12.4.127)\n",
            "Requirement already satisfied: triton==3.1.0 in /usr/local/lib/python3.11/dist-packages (from torch<3.0,>=2.3->stable-baselines3) (3.1.0)\n",
            "Requirement already satisfied: sympy==1.13.1 in /usr/local/lib/python3.11/dist-packages (from torch<3.0,>=2.3->stable-baselines3) (1.13.1)\n",
            "Requirement already satisfied: mpmath<1.4,>=1.1.0 in /usr/local/lib/python3.11/dist-packages (from sympy==1.13.1->torch<3.0,>=2.3->stable-baselines3) (1.3.0)\n",
            "Requirement already satisfied: contourpy>=1.0.1 in /usr/local/lib/python3.11/dist-packages (from matplotlib->stable-baselines3) (1.3.1)\n",
            "Requirement already satisfied: cycler>=0.10 in /usr/local/lib/python3.11/dist-packages (from matplotlib->stable-baselines3) (0.12.1)\n",
            "Requirement already satisfied: fonttools>=4.22.0 in /usr/local/lib/python3.11/dist-packages (from matplotlib->stable-baselines3) (4.56.0)\n",
            "Requirement already satisfied: kiwisolver>=1.3.1 in /usr/local/lib/python3.11/dist-packages (from matplotlib->stable-baselines3) (1.4.8)\n",
            "Requirement already satisfied: packaging>=20.0 in /usr/local/lib/python3.11/dist-packages (from matplotlib->stable-baselines3) (24.2)\n",
            "Requirement already satisfied: pillow>=8 in /usr/local/lib/python3.11/dist-packages (from matplotlib->stable-baselines3) (11.1.0)\n",
            "Requirement already satisfied: pyparsing>=2.3.1 in /usr/local/lib/python3.11/dist-packages (from matplotlib->stable-baselines3) (3.2.1)\n",
            "Requirement already satisfied: python-dateutil>=2.7 in /usr/local/lib/python3.11/dist-packages (from matplotlib->stable-baselines3) (2.8.2)\n",
            "Requirement already satisfied: pytz>=2020.1 in /usr/local/lib/python3.11/dist-packages (from pandas->stable-baselines3) (2025.1)\n",
            "Requirement already satisfied: tzdata>=2022.7 in /usr/local/lib/python3.11/dist-packages (from pandas->stable-baselines3) (2025.1)\n",
            "Requirement already satisfied: six>=1.5 in /usr/local/lib/python3.11/dist-packages (from python-dateutil>=2.7->matplotlib->stable-baselines3) (1.17.0)\n",
            "Requirement already satisfied: MarkupSafe>=2.0 in /usr/local/lib/python3.11/dist-packages (from jinja2->torch<3.0,>=2.3->stable-baselines3) (3.0.2)\n"
          ]
        }
      ]
    },
    {
      "cell_type": "code",
      "source": [
        "import gymnasium\n",
        "import mujoco\n",
        "from stable_baselines3 import SAC\n",
        "from stable_baselines3.common.env_checker import check_env\n",
        "from stable_baselines3.common.vec_env import DummyVecEnv\n",
        "from stable_baselines3.common.callbacks import EvalCallback\n",
        "from stable_baselines3.common.evaluation import evaluate_policy\n",
        "from stable_baselines3.common.vec_env import VecVideoRecorder\n",
        "from stable_baselines3.common.env_util import make_atari_env\n",
        "from stable_baselines3.common.env_util import make_vec_env\n",
        "from stable_baselines3.common.callbacks import BaseCallback\n",
        "from stable_baselines3.common.callbacks import CallbackList\n",
        "import numpy\n",
        "import os\n",
        "import csv\n",
        "import torch\n",
        "import platform\n",
        "from importlib.metadata import version\n",
        "import matplotlib\n",
        "import matplotlib.pyplot\n",
        "from gymnasium import utils\n",
        "from gymnasium.envs.mujoco import MujocoEnv\n",
        "from gymnasium.spaces import Box"
      ],
      "metadata": {
        "id": "WY4o6uzNlqb_"
      },
      "execution_count": 3,
      "outputs": []
    },
    {
      "cell_type": "code",
      "source": [
        "print(f\"Python Version: {platform.python_version()}\")\n",
        "print(f\"Torch Version: {version('torch')}\")\n",
        "print(f\"Is Cuda Available: {torch.cuda.is_available()}\")\n",
        "print(f\"Cuda Version: {torch.version.cuda}\")\n",
        "print(f\"Gymnasium Version: {version('gymnasium')}\")\n",
        "print(f\"Numpy Version: {version('numpy')}\")\n",
        "print(f\"Mujoco Version: {version('mujoco')}\")\n",
        "print(f\"Stable-Baselines3 Version: {version('stable-baselines3')}\")\n",
        "print(f\"Matplotlib Version: {version('matplotlib')}\")"
      ],
      "metadata": {
        "id": "W93vyNlZmDW2",
        "outputId": "1410660f-e537-41fe-d232-40c619e7df4a",
        "colab": {
          "base_uri": "https://localhost:8080/"
        }
      },
      "execution_count": 4,
      "outputs": [
        {
          "output_type": "stream",
          "name": "stdout",
          "text": [
            "Python Version: 3.11.11\n",
            "Torch Version: 2.5.1+cu124\n",
            "Is Cuda Available: True\n",
            "Cuda Version: 12.4\n",
            "Gymnasium Version: 1.0.0\n",
            "Numpy Version: 1.26.4\n",
            "Mujoco Version: 3.3.0\n",
            "Stable-Baselines3 Version: 2.5.0\n",
            "Matplotlib Version: 3.10.0\n"
          ]
        }
      ]
    },
    {
      "cell_type": "code",
      "source": [
        "rl_type = \"SAC\"\n",
        "env_str = \"BallBounce\"\n",
        "log_dir = \"./logs/{}\".format(env_str)\n",
        "name_prefix = \"ball_bounce\""
      ],
      "metadata": {
        "id": "_pWMBaSjbSyN"
      },
      "execution_count": 5,
      "outputs": []
    },
    {
      "cell_type": "code",
      "source": [
        "hyperparams = {\n",
        "    \"env_str\": env_str,\n",
        "    \"rl_type\": rl_type,\n",
        "    \"eval_freq\": 25_000,\n",
        "    \"n_envs\": 4,\n",
        "    \"min_force\": 100.0,\n",
        "    \"total_timesteps\": 2_000_000,\n",
        "    \"log_dir\": log_dir\n",
        "}"
      ],
      "metadata": {
        "id": "EBQMuLuKPAcd"
      },
      "execution_count": 6,
      "outputs": []
    },
    {
      "cell_type": "code",
      "source": [
        "class VideoRecordCallback(BaseCallback):\n",
        "    def __init__(\n",
        "        self,\n",
        "        save_path: str,\n",
        "        video_length: int,\n",
        "        save_freq: int = 5_000,\n",
        "        name_prefix: str =\"rl_model\",\n",
        "        verbose: int = 0):\n",
        "\n",
        "        super().__init__(verbose)\n",
        "        self.save_freq = save_freq\n",
        "        self.video_length = video_length\n",
        "        self.save_path = save_path\n",
        "        self.name_prefix = name_prefix\n",
        "        # Those variables will be accessible in the callback\n",
        "        # (they are defined in the base class)\n",
        "        # The RL model\n",
        "        # self.model = None  # type: BaseAlgorithm\n",
        "        # An alias for self.model.get_env(), the environment used for training\n",
        "        # self.training_env # type: VecEnv\n",
        "        # Number of time the callback was called\n",
        "        # self.n_calls = 0  # type: int\n",
        "        # num_timesteps = n_envs * n times env.step() was called\n",
        "        # self.num_timesteps = 0  # type: int\n",
        "        # local and global variables\n",
        "        # self.locals = {}  # type: Dict[str, Any]\n",
        "        # self.globals = {}  # type: Dict[str, Any]\n",
        "        # The logger object, used to report things in the terminal\n",
        "        # self.logger # type: stable_baselines3.common.logger.Logger\n",
        "        # Sometimes, for event callback, it is useful\n",
        "        # to have access to the parent object\n",
        "        # self.parent = None  # type: Optional[BaseCallback]\n",
        "\n",
        "    def _on_step(self) -> bool:\n",
        "        if self.n_calls % self.save_freq == 0:\n",
        "\n",
        "          name_prefix = f\"{self.name_prefix}_{self.num_timesteps}\"\n",
        "\n",
        "          # Record video of the best model playing\n",
        "          rec_val = make_vec_env(make_env, n_envs=1)\n",
        "          rec_val = VecVideoRecorder(rec_val,\n",
        "                                    self.save_path,\n",
        "                                    video_length=self.video_length,\n",
        "                                    record_video_trigger=lambda x: x == 0,\n",
        "                                    name_prefix=name_prefix)\n",
        "\n",
        "          obs = rec_val.reset()\n",
        "          session_length = 0\n",
        "          total_reward = 0.0\n",
        "          csv_file_name = os.path.join(self.save_path, f\"{name_prefix}.csv\")\n",
        "          with open(csv_file_name, 'w') as csvfile:\n",
        "            csv_writer = csv.writer(csvfile, delimiter=',')\n",
        "            csv_writer.writerow([\"Sensor Data\",\n",
        "                                 \"Reward\",\n",
        "                                 \"Total Reward\",\n",
        "                                 \"Done\"])\n",
        "            for _ in range(self.video_length):\n",
        "              session_length += 1\n",
        "              action, _states = self.model.predict(obs)\n",
        "              obs, rewards, dones, info = rec_val.step(action)\n",
        "              total_reward += rewards\n",
        "              #print(info)\n",
        "              csv_writer.writerow([info[0][\"sensor_data\"],\n",
        "                                   rewards[0],\n",
        "                                   total_reward[0],\n",
        "                                   dones[0]])\n",
        "              rec_val.render()\n",
        "\n",
        "              if dones:\n",
        "                break\n",
        "\n",
        "          print(f\"Step: {self.num_timesteps} | Session Length: {session_length} |Total Bounces: {int(total_reward[0])}\")\n",
        "\n",
        "          rec_val.close()\n",
        "        return True"
      ],
      "metadata": {
        "id": "D8uMGsZgOWfT"
      },
      "execution_count": 7,
      "outputs": []
    },
    {
      "cell_type": "code",
      "execution_count": 8,
      "metadata": {
        "id": "1Zl8FYadlNQq"
      },
      "outputs": [],
      "source": [
        "class BallBounceEnv(MujocoEnv, utils.EzPickle):\n",
        "    metadata = {\n",
        "        \"render_modes\": [\n",
        "            \"human\",\n",
        "            \"rgb_array\",\n",
        "            \"depth_array\",\n",
        "        ],\n",
        "        \"render_fps\": 100,\n",
        "    }\n",
        "\n",
        "    # set default episode_len for truncate episodes\n",
        "    def __init__(self, episode_len=750, min_force=0.0, **kwargs):\n",
        "        utils.EzPickle.__init__(self, **kwargs)\n",
        "\n",
        "        self.min_force = min_force\n",
        "        self.bounce_count = 0\n",
        "        self.previous_touch_value = 0\n",
        "        # change shape of observation to your observation space size\n",
        "        observation_space = Box(low=-numpy.inf, high=np.inf, shape=(18,), dtype=numpy.float64)\n",
        "        # load your MJCF model with env and choose frames count between actions\n",
        "        MujocoEnv.__init__(\n",
        "            self,\n",
        "            os.path.abspath(f\"/content/{name_prefix}.xml\"),\n",
        "            5,\n",
        "            observation_space=observation_space,\n",
        "            **kwargs\n",
        "        )\n",
        "        self.step_number = 0\n",
        "        self.episode_len = episode_len\n",
        "\n",
        "    # determine the reward depending on observation or other properties of the simulation\n",
        "    def step(self, a):\n",
        "        reward = 0.0\n",
        "        self.do_simulation(a, self.frame_skip)\n",
        "        self.step_number += 1\n",
        "\n",
        "\n",
        "        # Bounce Detection (CRITICAL)\n",
        "        current_touch_value = self.data.sensor(\"touch_sensor\").data[0]\n",
        "        if current_touch_value >= self.min_force and self.previous_touch_value <= 0:  # Check for transition from no contact to contact\n",
        "            self.bounce_count += 1\n",
        "            reward = 1.0\n",
        "            #print(f\"Bounce! Total Bounces: {self.bounce_count}\")\n",
        "        self.previous_touch_value = current_touch_value\n",
        "\n",
        "        obs = self._get_obs()\n",
        "        done = bool(not np.isfinite(obs).all() or (obs[2] < 0))\n",
        "        truncated = self.step_number > self.episode_len\n",
        "        return obs, reward, done, truncated, {\"sensor_data\": current_touch_value}\n",
        "\n",
        "    # define what should happen when the model is reset (at the beginning of each episode)\n",
        "    def reset_model(self):\n",
        "        self.step_number = 0\n",
        "        self.bounce_count = 0\n",
        "\n",
        "        # for example, noise is added to positions and velocities\n",
        "        qpos = self.init_qpos + self.np_random.uniform(\n",
        "            size=self.model.nq, low=-0.01, high=0.01\n",
        "        )\n",
        "        qvel = self.init_qvel + self.np_random.uniform(\n",
        "            size=self.model.nv, low=-0.01, high=0.01\n",
        "        )\n",
        "        self.set_state(qpos, qvel)\n",
        "        return self._get_obs()\n",
        "\n",
        "    # determine what should be added to the observation\n",
        "    # for example, the velocities and positions of various joints can be obtained through their names, as stated here\n",
        "    def _get_obs(self):\n",
        "        obs = np.concatenate((np.array(self.data.joint(\"ball_freejoint\").qpos[:3]),\n",
        "                              np.array(self.data.joint(\"ball_freejoint\").qvel[:3]),\n",
        "                              np.array(self.data.joint(\"rotate_x\").qpos),\n",
        "                              np.array(self.data.joint(\"rotate_x\").qvel),\n",
        "                              np.array(self.data.joint(\"rotate_y\").qpos),\n",
        "                              np.array(self.data.joint(\"rotate_y\").qvel),\n",
        "                              np.array(self.data.joint(\"rotate_z\").qpos),\n",
        "                              np.array(self.data.joint(\"rotate_z\").qvel),\n",
        "                              np.array(self.data.joint(\"slider_x\").qpos),\n",
        "                              np.array(self.data.joint(\"slider_x\").qvel),\n",
        "                              np.array(self.data.joint(\"slider_y\").qpos),\n",
        "                              np.array(self.data.joint(\"slider_y\").qvel),\n",
        "                              np.array(self.data.joint(\"slider_z\").qpos),\n",
        "                              np.array(self.data.joint(\"slider_z\").qvel)), axis=0)\n",
        "        return obs"
      ]
    },
    {
      "cell_type": "code",
      "source": [
        "# Ensure environment XML (MuJoCo model) is available\n",
        "xml_content = \"\"\"\n",
        "<mujoco>\n",
        "  <option timestep=\".002\" />\n",
        "  <asset>\n",
        "    <texture name=\"grid\" type=\"2d\" builtin=\"checker\" rgb1=\".1 .2 .3\"\n",
        "      rgb2=\".2 .3 .4\" width=\"300\" height=\"300\" mark=\"none\" />\n",
        "    <material name=\"grid\" texture=\"grid\" texrepeat=\"1 1\"\n",
        "      texuniform=\"true\" reflectance=\".2\" />\n",
        "  </asset>\n",
        "  <worldbody>\n",
        "    <light name=\"light\" pos=\"0 0 1\" />\n",
        "    <geom name=\"floor\" type=\"plane\" pos=\"0 0 -0.5\" size=\"2 2 .1\" material=\"grid\" />\n",
        "    <body name=\"paddle_body\" pos=\"0 0 0\">\n",
        "      <site name=\"bounce_sensor\" pos=\"0 0 0.15\" size=\"0.2 0.2 0.01\" type=\"box\" rgba=\"1 0 0 .15\" />\n",
        "      <joint name=\"rotate_x\" pos=\"0 0 0\" axis=\"1 0 0\" range=\"-.3 .3\" damping=\"10\" />\n",
        "      <joint name=\"rotate_y\" pos=\"0 0 0\" axis=\"0 1 0\" range=\"-.3 .3\" damping=\"10\" />\n",
        "      <joint name=\"rotate_z\" pos=\"0 0 0\" axis=\"0 0 1\" range=\"-.3 .3\" damping=\"10\" />\n",
        "      <joint axis=\"0 0 1\" limited=\"true\" name=\"slider_z\" range=\"0 0.5\" type=\"slide\" />\n",
        "      <joint axis=\"0 1 0\" limited=\"true\" name=\"slider_y\" range=\"-.2 .2\" type=\"slide\" />\n",
        "      <joint axis=\"1 0 0\" limited=\"true\" name=\"slider_x\" range=\"-.2 .2\" type=\"slide\" />\n",
        "      <geom name=\"paddle_geom\" type=\"box\" size=\".2 .2 .02\" rgba=\"0.2 0.2 1 1\" solref=\"0.02 0.07\" />\n",
        "    </body>\n",
        "    <body name=\"ball_body\" pos=\"0 0 0.3\">\n",
        "      <freejoint name=\"ball_freejoint\" />\n",
        "      <geom name=\"ball_geom\" type=\"sphere\" size=\".04\" rgba=\"0 1 0 1\" solref=\"0.02 0.07\" />\n",
        "    </body>\n",
        "  </worldbody>\n",
        "  <actuator>\n",
        "    <general name=\"act_x\" joint=\"rotate_x\" ctrlrange=\"-1 1\" gainprm=\"500 0 0\" />\n",
        "    <general name=\"act_y\" joint=\"rotate_y\" ctrlrange=\"-1 1\" gainprm=\"500 0 0\" />\n",
        "    <general name=\"act_z\" joint=\"rotate_z\" ctrlrange=\"-1 1\" gainprm=\"500 0 0\" />\n",
        "    <motor ctrllimited=\"true\" ctrlrange=\"-1 1\" gear=\"50\" joint=\"slider_z\" name=\"slider_z_motor\" />\n",
        "    <motor ctrllimited=\"true\" ctrlrange=\"-1 1\" gear=\"50\" joint=\"slider_y\" name=\"slider_y_motor\" />\n",
        "    <motor ctrllimited=\"true\" ctrlrange=\"-1 1\" gear=\"50\" joint=\"slider_x\" name=\"slider_x_motor\" />\n",
        "  </actuator>\n",
        "  <sensor>\n",
        "    <touch name=\"touch_sensor\" site=\"bounce_sensor\" />\n",
        "  </sensor>\n",
        "</mujoco>\n",
        "\"\"\"\n",
        "\n",
        "with open(f\"{name_prefix}.xml\", \"w\") as f:\n",
        "    f.write(xml_content)"
      ],
      "metadata": {
        "id": "WSabiKwgmS-i"
      },
      "execution_count": 9,
      "outputs": []
    },
    {
      "cell_type": "code",
      "source": [
        "env = BallBounceEnv(render_mode=\"rgb_array\")\n",
        "print(\"Observation Space Size: \", env.observation_space.shape)\n",
        "print('Actions Space: ', env.action_space)\n",
        "env.close()"
      ],
      "metadata": {
        "id": "Wks5iHMc_zz8",
        "outputId": "25c025cd-2986-45f3-fdae-65141109a368",
        "colab": {
          "base_uri": "https://localhost:8080/"
        }
      },
      "execution_count": 10,
      "outputs": [
        {
          "output_type": "stream",
          "name": "stdout",
          "text": [
            "Observation Space Size:  (18,)\n",
            "Actions Space:  Box(-1.0, 1.0, (6,), float32)\n"
          ]
        }
      ]
    },
    {
      "cell_type": "code",
      "source": [
        "def make_env():\n",
        "  env = BallBounceEnv(render_mode=\"rgb_array\",\n",
        "                      min_force=hyperparams[\"min_force\"])\n",
        "  check_env(env)\n",
        "  return env\n",
        "\n",
        "# Create Training environment\n",
        "env = make_vec_env(make_env,\n",
        "                   n_envs=hyperparams[\"n_envs\"],\n",
        "                   monitor_dir=os.path.join(log_dir, \"monitor\"))\n",
        "\n",
        "# Create Evaluation environment\n",
        "env_val = make_vec_env(make_env, n_envs=1)\n",
        "\n",
        "eval_callback = EvalCallback(env_val,\n",
        "                             best_model_save_path=log_dir,\n",
        "                             log_path=log_dir,\n",
        "                             render=False,\n",
        "                             deterministic=True,\n",
        "                             n_eval_episodes=20,\n",
        "                             eval_freq=hyperparams[\"eval_freq\"])\n",
        "\n",
        "video_record_callback = VideoRecordCallback(\n",
        "    save_path=os.path.join(log_dir, \"videos\"),\n",
        "    video_length=10_000,\n",
        "    save_freq=hyperparams[\"eval_freq\"],\n",
        "    name_prefix=name_prefix)\n",
        "\n",
        "# Create the callback list\n",
        "callbackList = CallbackList([video_record_callback,\n",
        "                             eval_callback])\n",
        "\n",
        "# learning with tensorboard logging and saving model\n",
        "model = SAC(\"MlpPolicy\",\n",
        "            env,\n",
        "            verbose=0,\n",
        "            tensorboard_log=os.path.join(log_dir, \"tensorboard\"))\n",
        "\n",
        "model.learn(total_timesteps=hyperparams[\"total_timesteps\"],\n",
        "            callback=callbackList,\n",
        "            progress_bar=False)\n",
        "\n",
        "# Save the model\n",
        "model.save(os.path.join(log_dir, \"final_model\"))\n",
        "\n",
        "mean_reward, std_reward = evaluate_policy(model, env)\n",
        "print(f\"Mean reward: {mean_reward:.2f} +/- {std_reward:.2f}\")\n",
        "\n",
        "env.close()\n",
        "env_val.close()"
      ],
      "metadata": {
        "id": "31kWylPTqRBO",
        "colab": {
          "base_uri": "https://localhost:8080/"
        },
        "outputId": "3aad9168-2f13-4880-edf3-4c84c5e8d195"
      },
      "execution_count": 11,
      "outputs": [
        {
          "output_type": "stream",
          "name": "stdout",
          "text": [
            "Step: 100000 | Session Length: 77 |Total Bounces: 0\n",
            "Moviepy - Building video /content/logs/BallBounce/videos/ball_bounce_100000-step-0-to-step-10000.mp4.\n",
            "Moviepy - Writing video /content/logs/BallBounce/videos/ball_bounce_100000-step-0-to-step-10000.mp4\n",
            "\n"
          ]
        },
        {
          "output_type": "stream",
          "name": "stderr",
          "text": []
        },
        {
          "output_type": "stream",
          "name": "stdout",
          "text": [
            "Moviepy - Done !\n",
            "Moviepy - video ready /content/logs/BallBounce/videos/ball_bounce_100000-step-0-to-step-10000.mp4\n",
            "Eval num_timesteps=100000, episode_reward=0.40 +/- 0.49\n",
            "Episode length: 82.00 +/- 22.07\n",
            "New best mean reward!\n",
            "Step: 200000 | Session Length: 379 |Total Bounces: 4\n",
            "Moviepy - Building video /content/logs/BallBounce/videos/ball_bounce_200000-step-0-to-step-10000.mp4.\n",
            "Moviepy - Writing video /content/logs/BallBounce/videos/ball_bounce_200000-step-0-to-step-10000.mp4\n",
            "\n"
          ]
        },
        {
          "output_type": "stream",
          "name": "stderr",
          "text": []
        },
        {
          "output_type": "stream",
          "name": "stdout",
          "text": [
            "Moviepy - Done !\n",
            "Moviepy - video ready /content/logs/BallBounce/videos/ball_bounce_200000-step-0-to-step-10000.mp4\n",
            "Eval num_timesteps=200000, episode_reward=1.20 +/- 1.17\n",
            "Episode length: 286.40 +/- 29.51\n",
            "New best mean reward!\n",
            "Step: 300000 | Session Length: 270 |Total Bounces: 1\n",
            "Moviepy - Building video /content/logs/BallBounce/videos/ball_bounce_300000-step-0-to-step-10000.mp4.\n",
            "Moviepy - Writing video /content/logs/BallBounce/videos/ball_bounce_300000-step-0-to-step-10000.mp4\n",
            "\n"
          ]
        },
        {
          "output_type": "stream",
          "name": "stderr",
          "text": []
        },
        {
          "output_type": "stream",
          "name": "stdout",
          "text": [
            "Moviepy - Done !\n",
            "Moviepy - video ready /content/logs/BallBounce/videos/ball_bounce_300000-step-0-to-step-10000.mp4\n",
            "Eval num_timesteps=300000, episode_reward=2.60 +/- 4.22\n",
            "Episode length: 398.40 +/- 215.28\n",
            "New best mean reward!\n",
            "Step: 400000 | Session Length: 260 |Total Bounces: 4\n",
            "Moviepy - Building video /content/logs/BallBounce/videos/ball_bounce_400000-step-0-to-step-10000.mp4.\n",
            "Moviepy - Writing video /content/logs/BallBounce/videos/ball_bounce_400000-step-0-to-step-10000.mp4\n",
            "\n"
          ]
        },
        {
          "output_type": "stream",
          "name": "stderr",
          "text": []
        },
        {
          "output_type": "stream",
          "name": "stdout",
          "text": [
            "Moviepy - Done !\n",
            "Moviepy - video ready /content/logs/BallBounce/videos/ball_bounce_400000-step-0-to-step-10000.mp4\n",
            "Eval num_timesteps=400000, episode_reward=4.40 +/- 2.24\n",
            "Episode length: 494.20 +/- 253.95\n",
            "New best mean reward!\n",
            "Step: 500000 | Session Length: 442 |Total Bounces: 3\n",
            "Moviepy - Building video /content/logs/BallBounce/videos/ball_bounce_500000-step-0-to-step-10000.mp4.\n",
            "Moviepy - Writing video /content/logs/BallBounce/videos/ball_bounce_500000-step-0-to-step-10000.mp4\n",
            "\n"
          ]
        },
        {
          "output_type": "stream",
          "name": "stderr",
          "text": []
        },
        {
          "output_type": "stream",
          "name": "stdout",
          "text": [
            "Moviepy - Done !\n",
            "Moviepy - video ready /content/logs/BallBounce/videos/ball_bounce_500000-step-0-to-step-10000.mp4\n",
            "Eval num_timesteps=500000, episode_reward=4.60 +/- 2.33\n",
            "Episode length: 516.60 +/- 212.17\n",
            "New best mean reward!\n",
            "Step: 600000 | Session Length: 234 |Total Bounces: 0\n",
            "Moviepy - Building video /content/logs/BallBounce/videos/ball_bounce_600000-step-0-to-step-10000.mp4.\n",
            "Moviepy - Writing video /content/logs/BallBounce/videos/ball_bounce_600000-step-0-to-step-10000.mp4\n",
            "\n"
          ]
        },
        {
          "output_type": "stream",
          "name": "stderr",
          "text": []
        },
        {
          "output_type": "stream",
          "name": "stdout",
          "text": [
            "Moviepy - Done !\n",
            "Moviepy - video ready /content/logs/BallBounce/videos/ball_bounce_600000-step-0-to-step-10000.mp4\n",
            "Eval num_timesteps=600000, episode_reward=3.40 +/- 1.85\n",
            "Episode length: 455.40 +/- 241.40\n",
            "Step: 700000 | Session Length: 751 |Total Bounces: 12\n",
            "Moviepy - Building video /content/logs/BallBounce/videos/ball_bounce_700000-step-0-to-step-10000.mp4.\n",
            "Moviepy - Writing video /content/logs/BallBounce/videos/ball_bounce_700000-step-0-to-step-10000.mp4\n",
            "\n"
          ]
        },
        {
          "output_type": "stream",
          "name": "stderr",
          "text": []
        },
        {
          "output_type": "stream",
          "name": "stdout",
          "text": [
            "Moviepy - Done !\n",
            "Moviepy - video ready /content/logs/BallBounce/videos/ball_bounce_700000-step-0-to-step-10000.mp4\n",
            "Eval num_timesteps=700000, episode_reward=6.60 +/- 3.01\n",
            "Episode length: 672.40 +/- 120.46\n",
            "New best mean reward!\n",
            "Step: 800000 | Session Length: 741 |Total Bounces: 9\n",
            "Moviepy - Building video /content/logs/BallBounce/videos/ball_bounce_800000-step-0-to-step-10000.mp4.\n",
            "Moviepy - Writing video /content/logs/BallBounce/videos/ball_bounce_800000-step-0-to-step-10000.mp4\n",
            "\n"
          ]
        },
        {
          "output_type": "stream",
          "name": "stderr",
          "text": []
        },
        {
          "output_type": "stream",
          "name": "stdout",
          "text": [
            "Moviepy - Done !\n",
            "Moviepy - video ready /content/logs/BallBounce/videos/ball_bounce_800000-step-0-to-step-10000.mp4\n",
            "Eval num_timesteps=800000, episode_reward=6.80 +/- 1.47\n",
            "Episode length: 751.00 +/- 0.00\n",
            "New best mean reward!\n",
            "Step: 900000 | Session Length: 751 |Total Bounces: 6\n",
            "Moviepy - Building video /content/logs/BallBounce/videos/ball_bounce_900000-step-0-to-step-10000.mp4.\n",
            "Moviepy - Writing video /content/logs/BallBounce/videos/ball_bounce_900000-step-0-to-step-10000.mp4\n",
            "\n"
          ]
        },
        {
          "output_type": "stream",
          "name": "stderr",
          "text": []
        },
        {
          "output_type": "stream",
          "name": "stdout",
          "text": [
            "Moviepy - Done !\n",
            "Moviepy - video ready /content/logs/BallBounce/videos/ball_bounce_900000-step-0-to-step-10000.mp4\n",
            "Eval num_timesteps=900000, episode_reward=4.80 +/- 4.07\n",
            "Episode length: 625.20 +/- 251.60\n",
            "Step: 1000000 | Session Length: 751 |Total Bounces: 6\n",
            "Moviepy - Building video /content/logs/BallBounce/videos/ball_bounce_1000000-step-0-to-step-10000.mp4.\n",
            "Moviepy - Writing video /content/logs/BallBounce/videos/ball_bounce_1000000-step-0-to-step-10000.mp4\n",
            "\n"
          ]
        },
        {
          "output_type": "stream",
          "name": "stderr",
          "text": []
        },
        {
          "output_type": "stream",
          "name": "stdout",
          "text": [
            "Moviepy - Done !\n",
            "Moviepy - video ready /content/logs/BallBounce/videos/ball_bounce_1000000-step-0-to-step-10000.mp4\n",
            "Eval num_timesteps=1000000, episode_reward=7.60 +/- 1.85\n",
            "Episode length: 703.40 +/- 95.20\n",
            "New best mean reward!\n",
            "Step: 1100000 | Session Length: 457 |Total Bounces: 4\n",
            "Moviepy - Building video /content/logs/BallBounce/videos/ball_bounce_1100000-step-0-to-step-10000.mp4.\n",
            "Moviepy - Writing video /content/logs/BallBounce/videos/ball_bounce_1100000-step-0-to-step-10000.mp4\n",
            "\n"
          ]
        },
        {
          "output_type": "stream",
          "name": "stderr",
          "text": []
        },
        {
          "output_type": "stream",
          "name": "stdout",
          "text": [
            "Moviepy - Done !\n",
            "Moviepy - video ready /content/logs/BallBounce/videos/ball_bounce_1100000-step-0-to-step-10000.mp4\n",
            "Eval num_timesteps=1100000, episode_reward=4.80 +/- 2.23\n",
            "Episode length: 664.40 +/- 89.67\n",
            "Step: 1200000 | Session Length: 751 |Total Bounces: 8\n",
            "Moviepy - Building video /content/logs/BallBounce/videos/ball_bounce_1200000-step-0-to-step-10000.mp4.\n",
            "Moviepy - Writing video /content/logs/BallBounce/videos/ball_bounce_1200000-step-0-to-step-10000.mp4\n",
            "\n"
          ]
        },
        {
          "output_type": "stream",
          "name": "stderr",
          "text": []
        },
        {
          "output_type": "stream",
          "name": "stdout",
          "text": [
            "Moviepy - Done !\n",
            "Moviepy - video ready /content/logs/BallBounce/videos/ball_bounce_1200000-step-0-to-step-10000.mp4\n",
            "Eval num_timesteps=1200000, episode_reward=8.00 +/- 2.45\n",
            "Episode length: 751.00 +/- 0.00\n",
            "New best mean reward!\n",
            "Step: 1300000 | Session Length: 751 |Total Bounces: 8\n",
            "Moviepy - Building video /content/logs/BallBounce/videos/ball_bounce_1300000-step-0-to-step-10000.mp4.\n",
            "Moviepy - Writing video /content/logs/BallBounce/videos/ball_bounce_1300000-step-0-to-step-10000.mp4\n",
            "\n"
          ]
        },
        {
          "output_type": "stream",
          "name": "stderr",
          "text": []
        },
        {
          "output_type": "stream",
          "name": "stdout",
          "text": [
            "Moviepy - Done !\n",
            "Moviepy - video ready /content/logs/BallBounce/videos/ball_bounce_1300000-step-0-to-step-10000.mp4\n",
            "Eval num_timesteps=1300000, episode_reward=9.40 +/- 1.96\n",
            "Episode length: 751.00 +/- 0.00\n",
            "New best mean reward!\n",
            "Step: 1400000 | Session Length: 751 |Total Bounces: 8\n",
            "Moviepy - Building video /content/logs/BallBounce/videos/ball_bounce_1400000-step-0-to-step-10000.mp4.\n",
            "Moviepy - Writing video /content/logs/BallBounce/videos/ball_bounce_1400000-step-0-to-step-10000.mp4\n",
            "\n"
          ]
        },
        {
          "output_type": "stream",
          "name": "stderr",
          "text": []
        },
        {
          "output_type": "stream",
          "name": "stdout",
          "text": [
            "Moviepy - Done !\n",
            "Moviepy - video ready /content/logs/BallBounce/videos/ball_bounce_1400000-step-0-to-step-10000.mp4\n",
            "Eval num_timesteps=1400000, episode_reward=10.40 +/- 4.13\n",
            "Episode length: 751.00 +/- 0.00\n",
            "New best mean reward!\n",
            "Step: 1500000 | Session Length: 751 |Total Bounces: 10\n",
            "Moviepy - Building video /content/logs/BallBounce/videos/ball_bounce_1500000-step-0-to-step-10000.mp4.\n",
            "Moviepy - Writing video /content/logs/BallBounce/videos/ball_bounce_1500000-step-0-to-step-10000.mp4\n",
            "\n"
          ]
        },
        {
          "output_type": "stream",
          "name": "stderr",
          "text": []
        },
        {
          "output_type": "stream",
          "name": "stdout",
          "text": [
            "Moviepy - Done !\n",
            "Moviepy - video ready /content/logs/BallBounce/videos/ball_bounce_1500000-step-0-to-step-10000.mp4\n",
            "Eval num_timesteps=1500000, episode_reward=7.40 +/- 2.06\n",
            "Episode length: 751.00 +/- 0.00\n",
            "Step: 1600000 | Session Length: 751 |Total Bounces: 7\n",
            "Moviepy - Building video /content/logs/BallBounce/videos/ball_bounce_1600000-step-0-to-step-10000.mp4.\n",
            "Moviepy - Writing video /content/logs/BallBounce/videos/ball_bounce_1600000-step-0-to-step-10000.mp4\n",
            "\n"
          ]
        },
        {
          "output_type": "stream",
          "name": "stderr",
          "text": []
        },
        {
          "output_type": "stream",
          "name": "stdout",
          "text": [
            "Moviepy - Done !\n",
            "Moviepy - video ready /content/logs/BallBounce/videos/ball_bounce_1600000-step-0-to-step-10000.mp4\n",
            "Eval num_timesteps=1600000, episode_reward=4.20 +/- 2.56\n",
            "Episode length: 587.40 +/- 191.18\n",
            "Step: 1700000 | Session Length: 751 |Total Bounces: 6\n",
            "Moviepy - Building video /content/logs/BallBounce/videos/ball_bounce_1700000-step-0-to-step-10000.mp4.\n",
            "Moviepy - Writing video /content/logs/BallBounce/videos/ball_bounce_1700000-step-0-to-step-10000.mp4\n",
            "\n"
          ]
        },
        {
          "output_type": "stream",
          "name": "stderr",
          "text": []
        },
        {
          "output_type": "stream",
          "name": "stdout",
          "text": [
            "Moviepy - Done !\n",
            "Moviepy - video ready /content/logs/BallBounce/videos/ball_bounce_1700000-step-0-to-step-10000.mp4\n",
            "Eval num_timesteps=1700000, episode_reward=7.80 +/- 1.94\n",
            "Episode length: 751.00 +/- 0.00\n",
            "Step: 1800000 | Session Length: 751 |Total Bounces: 5\n",
            "Moviepy - Building video /content/logs/BallBounce/videos/ball_bounce_1800000-step-0-to-step-10000.mp4.\n",
            "Moviepy - Writing video /content/logs/BallBounce/videos/ball_bounce_1800000-step-0-to-step-10000.mp4\n",
            "\n"
          ]
        },
        {
          "output_type": "stream",
          "name": "stderr",
          "text": []
        },
        {
          "output_type": "stream",
          "name": "stdout",
          "text": [
            "Moviepy - Done !\n",
            "Moviepy - video ready /content/logs/BallBounce/videos/ball_bounce_1800000-step-0-to-step-10000.mp4\n",
            "Eval num_timesteps=1800000, episode_reward=7.60 +/- 1.62\n",
            "Episode length: 751.00 +/- 0.00\n",
            "Step: 1900000 | Session Length: 751 |Total Bounces: 10\n",
            "Moviepy - Building video /content/logs/BallBounce/videos/ball_bounce_1900000-step-0-to-step-10000.mp4.\n",
            "Moviepy - Writing video /content/logs/BallBounce/videos/ball_bounce_1900000-step-0-to-step-10000.mp4\n",
            "\n"
          ]
        },
        {
          "output_type": "stream",
          "name": "stderr",
          "text": []
        },
        {
          "output_type": "stream",
          "name": "stdout",
          "text": [
            "Moviepy - Done !\n",
            "Moviepy - video ready /content/logs/BallBounce/videos/ball_bounce_1900000-step-0-to-step-10000.mp4\n",
            "Eval num_timesteps=1900000, episode_reward=10.20 +/- 1.94\n",
            "Episode length: 751.00 +/- 0.00\n",
            "Step: 2000000 | Session Length: 751 |Total Bounces: 9\n",
            "Moviepy - Building video /content/logs/BallBounce/videos/ball_bounce_2000000-step-0-to-step-10000.mp4.\n",
            "Moviepy - Writing video /content/logs/BallBounce/videos/ball_bounce_2000000-step-0-to-step-10000.mp4\n",
            "\n"
          ]
        },
        {
          "output_type": "stream",
          "name": "stderr",
          "text": []
        },
        {
          "output_type": "stream",
          "name": "stdout",
          "text": [
            "Moviepy - Done !\n",
            "Moviepy - video ready /content/logs/BallBounce/videos/ball_bounce_2000000-step-0-to-step-10000.mp4\n",
            "Eval num_timesteps=2000000, episode_reward=9.20 +/- 1.72\n",
            "Episode length: 751.00 +/- 0.00\n",
            "Mean reward: 8.50 +/- 2.94\n"
          ]
        }
      ]
    },
    {
      "cell_type": "code",
      "source": [
        "# Create Evaluation environment\n",
        "env_val = make_vec_env(make_env, n_envs=1)\n",
        "\n",
        "# Load the best model\n",
        "best_model_path = os.path.join(log_dir, \"best_model\")\n",
        "best_model = SAC.load(best_model_path, env=env)\n",
        "\n",
        "mean_reward, std_reward = evaluate_policy(best_model,\n",
        "                                          env_val,\n",
        "                                          n_eval_episodes=20)\n",
        "\n",
        "print(f\"Best Model - Mean reward: {mean_reward:.2f} +/- {std_reward:.2f}\")\n",
        "\n",
        "# Record video of the best model\n",
        "env = VecVideoRecorder(env_val, os.path.join(log_dir, \"videos\"),\n",
        "                       video_length=10_000,\n",
        "                       record_video_trigger=lambda x: x == 0,\n",
        "                       name_prefix=\"best_model_{}\".format(name_prefix))\n",
        "\n",
        "total_reward = 0\n",
        "obs = env.reset()\n",
        "for _ in range(10_000):\n",
        "    action, _states = best_model.predict(obs, deterministic=True)\n",
        "    obs, rewards, dones, info = env.step(action)\n",
        "    total_reward += rewards\n",
        "    env.render()\n",
        "    if dones:\n",
        "        break\n",
        "\n",
        "env.close()\n",
        "print(f\"Total reward: {total_reward[0]}\")"
      ],
      "metadata": {
        "id": "TiwmYjHCasmz",
        "colab": {
          "base_uri": "https://localhost:8080/"
        },
        "outputId": "677923e4-ab74-447c-f066-8a36a542d91c"
      },
      "execution_count": 15,
      "outputs": [
        {
          "output_type": "stream",
          "name": "stdout",
          "text": [
            "Best Model - Mean reward: 7.50 +/- 2.67\n",
            "Moviepy - Building video /content/logs/BallBounce/videos/best_model_ball_bounce-step-0-to-step-10000.mp4.\n",
            "Moviepy - Writing video /content/logs/BallBounce/videos/best_model_ball_bounce-step-0-to-step-10000.mp4\n",
            "\n"
          ]
        },
        {
          "output_type": "stream",
          "name": "stderr",
          "text": []
        },
        {
          "output_type": "stream",
          "name": "stdout",
          "text": [
            "Moviepy - Done !\n",
            "Moviepy - video ready /content/logs/BallBounce/videos/best_model_ball_bounce-step-0-to-step-10000.mp4\n",
            "Total reward: 3.0\n"
          ]
        }
      ]
    },
    {
      "cell_type": "code",
      "source": [
        "# Load the evaluations.npz file\n",
        "data = numpy.load(os.path.join(log_dir, \"evaluations.npz\"))\n",
        "\n",
        "# Extract the relevant data\n",
        "timesteps = data['timesteps']\n",
        "results = data['results']\n",
        "\n",
        "# Calculate the mean and standard deviation of the results\n",
        "mean_results = numpy.mean(results, axis=1)\n",
        "std_results = numpy.std(results, axis=1)\n",
        "\n",
        "# Plot the results\n",
        "matplotlib.pyplot.figure()\n",
        "matplotlib.pyplot.plot(timesteps, mean_results)\n",
        "matplotlib.pyplot.fill_between(timesteps,\n",
        "                               mean_results - std_results,\n",
        "                               mean_results + std_results,\n",
        "                               alpha=0.3)\n",
        "\n",
        "matplotlib.pyplot.xlabel('Timesteps')\n",
        "matplotlib.pyplot.ylabel('Mean Reward')\n",
        "matplotlib.pyplot.title(f\"{rl_type} Performance on {env_str}\")\n",
        "matplotlib.pyplot.show()"
      ],
      "metadata": {
        "id": "eWL1-laWawXl",
        "colab": {
          "base_uri": "https://localhost:8080/",
          "height": 472
        },
        "outputId": "cafc80f1-1c97-4236-80be-6b64905f8d32"
      },
      "execution_count": 16,
      "outputs": [
        {
          "output_type": "display_data",
          "data": {
            "text/plain": [
              "<Figure size 640x480 with 1 Axes>"
            ],
            "image/png": "[encoded data removed]"
          },
          "metadata": {}
        }
      ]
    },
    {
      "cell_type": "code",
      "source": [],
      "metadata": {
        "id": "62HctLv03Ewz"
      },
      "execution_count": null,
      "outputs": []
    }
  ]
}